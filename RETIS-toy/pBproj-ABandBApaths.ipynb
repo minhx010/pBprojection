{
 "cells": [
  {
   "cell_type": "code",
   "execution_count": null,
   "metadata": {},
   "outputs": [],
   "source": [
    "# pB projection using AB and BA paths\n",
    "# Last Modified by Porhouy (PH) Minh\n",
    "# Last Updated Date: 05-24-2023 \n",
    "# SAMPEL Group\n",
    "\n",
    "import numpy as np\n",
    "import matplotlib.pyplot as plt"
   ]
  },
  {
   "attachments": {},
   "cell_type": "markdown",
   "metadata": {},
   "source": [
    "## Calculate the scaling constant C"
   ]
  },
  {
   "cell_type": "code",
   "execution_count": null,
   "metadata": {},
   "outputs": [],
   "source": [
    "# read in rate constant info from AB and BA paths\n",
    "abrate = float(np.loadtxt(\"ratek-AB.txt\"))\n",
    "barate = float(np.loadtxt(\"ratek-BA.txt\"))\n",
    "c = barate/abrate"
   ]
  },
  {
   "attachments": {},
   "cell_type": "markdown",
   "metadata": {},
   "source": [
    "## Case of 1CV"
   ]
  },
  {
   "cell_type": "code",
   "execution_count": null,
   "metadata": {},
   "outputs": [],
   "source": [
    "# Read in AB paths data \n",
    "\n",
    "ab = np.loadtxt(\"./pBprojection-ABpaths-1CV.txt\")\n",
    "\n",
    "# Read in BA paths data\n",
    "\n",
    "ba = np.loadtxt(\"./pBprojection-BApaths-1CV.txt\")\n",
    "\n",
    "# Calculate the pB\n",
    "abnumer = ab[:,2]\n",
    "banumer = ba[:,2]\n",
    "\n",
    "abdenom = ab[:,3]\n",
    "badenom = ba[:,3]\n",
    "\n",
    "# pB = (abnumer-c*banumer)/(abdenom-c*badenom)\n",
    "pB = (abnumer+banumer)/(abdenom+badenom)\n",
    "\n",
    "# Plot the projection which uses AB and BA paths\n",
    "\n",
    "plt.scatter(ab[:,0], pB, cmap='coolwarm', s=30, label='AB and BA paths')\n",
    "plt.ylabel(r'$p_B$')\n",
    "plt.xlabel('CV = x')\n",
    "plt.title(r'$p_B\\ projection$')\n",
    "plt.show()\n",
    "\n",
    "np.savetxt('pBprojection-ABandBApaths-1CV.txt',np.transpose((ab[:,0],pB)))\n",
    "# np.savetxt('pBprojection-ABandBApaths-1CV-withC.txt',np.transpose((ab[:,0],pB)))\n"
   ]
  },
  {
   "attachments": {},
   "cell_type": "markdown",
   "metadata": {},
   "source": [
    "## Case of 2CV"
   ]
  },
  {
   "cell_type": "code",
   "execution_count": null,
   "metadata": {},
   "outputs": [],
   "source": [
    "# Read in AB paths data \n",
    "\n",
    "ab = np.loadtxt(\"./pBprojection-ABpaths-2CV.txt\")\n",
    "\n",
    "# Read in BA paths data\n",
    "\n",
    "ba = np.loadtxt(\"./pBprojection-BApaths-2CV.txt\")\n",
    "\n",
    "# Calculate the pB\n",
    "abnumer = ab[:,3]\n",
    "banumer = ba[:,3]\n",
    "\n",
    "abdenom = ab[:,4]\n",
    "badenom = ba[:,4]\n",
    "\n",
    "# pB = (abnumer-c*banumer)/(abdenom-c*badenom)\n",
    "pB = (abnumer+banumer)/(abdenom+badenom)\n",
    "\n",
    "# Plot the projection which uses AB and BA paths\n",
    "\n",
    "plt.scatter(ab[:,0],ab[:,1], c=pB, cmap='coolwarm', s=30, label='AB and BA paths')\n",
    "plt.ylabel('CV = y')\n",
    "plt.xlabel('CV = x')\n",
    "plt.title(r'$p_B\\ projection$')\n",
    "plt.colorbar()\n",
    "plt.show()\n",
    "\n",
    "np.savetxt('pBprojection-ABandBApaths-2CV.txt',np.transpose((ab[:,0],ab[:,1],pB)))\n",
    "# np.savetxt('pBprojection-ABandBApaths-2CV-withC.txt',np.transpose((ab[:,0],ab[:,1],pB)))\n",
    "\n"
   ]
  }
 ],
 "metadata": {
  "language_info": {
   "name": "python"
  },
  "orig_nbformat": 4
 },
 "nbformat": 4,
 "nbformat_minor": 2
}
